{
  "metadata": {
    "kernelspec": {
      "name": "python",
      "display_name": "Python (Pyodide)",
      "language": "python"
    },
    "language_info": {
      "codemirror_mode": {
        "name": "python",
        "version": 3
      },
      "file_extension": ".py",
      "mimetype": "text/x-python",
      "name": "python",
      "nbconvert_exporter": "python",
      "pygments_lexer": "ipython3",
      "version": "3.8"
    }
  },
  "nbformat_minor": 4,
  "nbformat": 4,
  "cells": [
    {
      "cell_type": "code",
      "source": "import numpy as np\nimport pandas as pd\nimport matplotlib.pyplot as plt\nfrom sklearn.linear_model import LinearRegression\nfrom sklearn.model_selection import train_test_split\nfrom sklearn.metrics import r2_score, mean_squared_error\nimport seaborn as sns\nfrom collections import defaultdict\nfrom sklearn.feature_selection import SelectKBest\nfrom sklearn.feature_selection import f_regression\nimport math\n%matplotlib inline\n\ndefine_outcome = pd.read_csv('listings.csv')",
      "metadata": {},
      "execution_count": 3,
      "outputs": []
    },
    {
      "cell_type": "code",
      "source": "# Count the number of columns and rows\nprint(define_outcome.shape)",
      "metadata": {},
      "execution_count": 4,
      "outputs": [
        {
          "name": "stdout",
          "output_type": "stream",
          "text": "(3818, 92)\n"
        }
      ]
    },
    {
      "cell_type": "code",
      "source": "# Count the number of each data type\ndefine_outcome.dtypes.value_counts()",
      "metadata": {},
      "execution_count": 5,
      "outputs": [
        {
          "execution_count": 5,
          "output_type": "execute_result",
          "data": {
            "text/plain": [
              "object     62\n",
              "float64    17\n",
              "int64      13\n",
              "dtype: int64"
            ]
          },
          "metadata": {}
        }
      ]
    },
    {
      "cell_type": "code",
      "source": "# Display the name of the float data type column\ndefine_outcome.dtypes[df_lis.dtypes=='float64']",
      "metadata": {},
      "execution_count": 6,
      "outputs": [
        {
          "execution_count": 6,
          "output_type": "execute_result",
          "data": {
            "text/plain": [
              "host_listings_count            float64\n",
              "host_total_listings_count      float64\n",
              "latitude                       float64\n",
              "longitude                      float64\n",
              "bathrooms                      float64\n",
              "bedrooms                       float64\n",
              "beds                           float64\n",
              "square_feet                    float64\n",
              "review_scores_rating           float64\n",
              "review_scores_accuracy         float64\n",
              "review_scores_cleanliness      float64\n",
              "review_scores_checkin          float64\n",
              "review_scores_communication    float64\n",
              "review_scores_location         float64\n",
              "review_scores_value            float64\n",
              "license                        float64\n",
              "reviews_per_month              float64\n",
              "dtype: object"
            ]
          },
          "metadata": {}
        }
      ]
    },
    {
      "cell_type": "code",
      "source": "# Display the name of the int data type column\ndefine_outcome.dtypes[df_lis.dtypes=='int64']",
      "metadata": {},
      "execution_count": 7,
      "outputs": [
        {
          "execution_count": 7,
          "output_type": "execute_result",
          "data": {
            "text/plain": [
              "id                                int64\n",
              "scrape_id                         int64\n",
              "host_id                           int64\n",
              "accommodates                      int64\n",
              "guests_included                   int64\n",
              "minimum_nights                    int64\n",
              "maximum_nights                    int64\n",
              "availability_30                   int64\n",
              "availability_60                   int64\n",
              "availability_90                   int64\n",
              "availability_365                  int64\n",
              "number_of_reviews                 int64\n",
              "calculated_host_listings_count    int64\n",
              "dtype: object"
            ]
          },
          "metadata": {}
        }
      ]
    },
    {
      "cell_type": "code",
      "source": "# Display the object data type\npd.set_option('display.max_rows', 92)\ndefine_outcome.dtypes[df_lis.dtypes=='object']",
      "metadata": {},
      "execution_count": 8,
      "outputs": [
        {
          "execution_count": 8,
          "output_type": "execute_result",
          "data": {
            "text/plain": [
              "listing_url                         object\n",
              "last_scraped                        object\n",
              "name                                object\n",
              "summary                             object\n",
              "space                               object\n",
              "description                         object\n",
              "experiences_offered                 object\n",
              "neighborhood_overview               object\n",
              "notes                               object\n",
              "transit                             object\n",
              "thumbnail_url                       object\n",
              "medium_url                          object\n",
              "picture_url                         object\n",
              "xl_picture_url                      object\n",
              "host_url                            object\n",
              "host_name                           object\n",
              "host_since                          object\n",
              "host_location                       object\n",
              "host_about                          object\n",
              "host_response_time                  object\n",
              "host_response_rate                  object\n",
              "host_acceptance_rate                object\n",
              "host_is_superhost                   object\n",
              "host_thumbnail_url                  object\n",
              "host_picture_url                    object\n",
              "host_neighbourhood                  object\n",
              "host_verifications                  object\n",
              "host_has_profile_pic                object\n",
              "host_identity_verified              object\n",
              "street                              object\n",
              "neighbourhood                       object\n",
              "neighbourhood_cleansed              object\n",
              "neighbourhood_group_cleansed        object\n",
              "city                                object\n",
              "state                               object\n",
              "zipcode                             object\n",
              "market                              object\n",
              "smart_location                      object\n",
              "country_code                        object\n",
              "country                             object\n",
              "is_location_exact                   object\n",
              "property_type                       object\n",
              "room_type                           object\n",
              "bed_type                            object\n",
              "amenities                           object\n",
              "price                               object\n",
              "weekly_price                        object\n",
              "monthly_price                       object\n",
              "security_deposit                    object\n",
              "cleaning_fee                        object\n",
              "extra_people                        object\n",
              "calendar_updated                    object\n",
              "has_availability                    object\n",
              "calendar_last_scraped               object\n",
              "first_review                        object\n",
              "last_review                         object\n",
              "requires_license                    object\n",
              "jurisdiction_names                  object\n",
              "instant_bookable                    object\n",
              "cancellation_policy                 object\n",
              "require_guest_profile_picture       object\n",
              "require_guest_phone_verification    object\n",
              "dtype: object"
            ]
          },
          "metadata": {}
        }
      ]
    },
    {
      "cell_type": "code",
      "source": "# Display the missing value sort by descending\ndefine_outcome.isnull().sum().sort_values(ascending=False)",
      "metadata": {},
      "execution_count": 9,
      "outputs": [
        {
          "execution_count": 9,
          "output_type": "execute_result",
          "data": {
            "text/plain": [
              "license                             3818\n",
              "square_feet                         3721\n",
              "monthly_price                       2301\n",
              "security_deposit                    1952\n",
              "weekly_price                        1809\n",
              "notes                               1606\n",
              "neighborhood_overview               1032\n",
              "cleaning_fee                        1030\n",
              "transit                              934\n",
              "host_about                           859\n",
              "host_acceptance_rate                 773\n",
              "review_scores_accuracy               658\n",
              "review_scores_checkin                658\n",
              "review_scores_value                  656\n",
              "review_scores_location               655\n",
              "review_scores_cleanliness            653\n",
              "review_scores_communication          651\n",
              "review_scores_rating                 647\n",
              "reviews_per_month                    627\n",
              "first_review                         627\n",
              "last_review                          627\n",
              "space                                569\n",
              "host_response_time                   523\n",
              "host_response_rate                   523\n",
              "neighbourhood                        416\n",
              "xl_picture_url                       320\n",
              "thumbnail_url                        320\n",
              "medium_url                           320\n",
              "host_neighbourhood                   300\n",
              "summary                              177\n",
              "bathrooms                             16\n",
              "host_location                          8\n",
              "zipcode                                7\n",
              "bedrooms                               6\n",
              "host_identity_verified                 2\n",
              "host_has_profile_pic                   2\n",
              "host_picture_url                       2\n",
              "host_since                             2\n",
              "host_total_listings_count              2\n",
              "host_listings_count                    2\n",
              "host_thumbnail_url                     2\n",
              "host_name                              2\n",
              "host_is_superhost                      2\n",
              "beds                                   1\n",
              "property_type                          1\n",
              "host_verifications                     0\n",
              "host_url                               0\n",
              "host_id                                0\n",
              "picture_url                            0\n",
              "experiences_offered                    0\n",
              "description                            0\n",
              "name                                   0\n",
              "last_scraped                           0\n",
              "scrape_id                              0\n",
              "listing_url                            0\n",
              "street                                 0\n",
              "latitude                               0\n",
              "neighbourhood_cleansed                 0\n",
              "calendar_last_scraped                  0\n",
              "calendar_updated                       0\n",
              "has_availability                       0\n",
              "availability_30                        0\n",
              "availability_60                        0\n",
              "availability_90                        0\n",
              "availability_365                       0\n",
              "number_of_reviews                      0\n",
              "minimum_nights                         0\n",
              "requires_license                       0\n",
              "jurisdiction_names                     0\n",
              "instant_bookable                       0\n",
              "cancellation_policy                    0\n",
              "require_guest_profile_picture          0\n",
              "require_guest_phone_verification       0\n",
              "maximum_nights                         0\n",
              "extra_people                           0\n",
              "neighbourhood_group_cleansed           0\n",
              "calculated_host_listings_count         0\n",
              "city                                   0\n",
              "state                                  0\n",
              "market                                 0\n",
              "smart_location                         0\n",
              "country_code                           0\n",
              "country                                0\n",
              "longitude                              0\n",
              "guests_included                        0\n",
              "is_location_exact                      0\n",
              "room_type                              0\n",
              "accommodates                           0\n",
              "bed_type                               0\n",
              "amenities                              0\n",
              "price                                  0\n",
              "id                                     0\n",
              "dtype: int64"
            ]
          },
          "metadata": {}
        }
      ]
    },
    {
      "cell_type": "code",
      "source": "# Display the values which are visible and unique\ndefine_outcome.nunique()[define_outcome.nunique()==len(define_outcome)]",
      "metadata": {},
      "execution_count": 10,
      "outputs": [
        {
          "execution_count": 10,
          "output_type": "execute_result",
          "data": {
            "text/plain": [
              "id             3818\n",
              "listing_url    3818\n",
              "picture_url    3818\n",
              "latitude       3818\n",
              "longitude      3818\n",
              "dtype: int64"
            ]
          },
          "metadata": {}
        }
      ]
    },
    {
      "cell_type": "code",
      "source": "# Display the values which are missing and unique\ndefine_outcome.nunique()[define_outcome.nunique() != len(define_outcome)].sort_values(ascending=False)",
      "metadata": {},
      "execution_count": 11,
      "outputs": [
        {
          "execution_count": 11,
          "output_type": "execute_result",
          "data": {
            "text/plain": [
              "name                                3792\n",
              "description                         3742\n",
              "medium_url                          3498\n",
              "thumbnail_url                       3498\n",
              "xl_picture_url                      3498\n",
              "summary                             3478\n",
              "amenities                           3284\n",
              "space                               3119\n",
              "host_id                             2751\n",
              "host_url                            2751\n",
              "host_picture_url                    2743\n",
              "host_thumbnail_url                  2743\n",
              "transit                             2574\n",
              "neighborhood_overview               2506\n",
              "host_about                          2011\n",
              "notes                               1999\n",
              "host_name                           1466\n",
              "street                              1442\n",
              "host_since                          1380\n",
              "first_review                         984\n",
              "reviews_per_month                    654\n",
              "weekly_price                         395\n",
              "availability_365                     363\n",
              "monthly_price                        356\n",
              "last_review                          321\n",
              "price                                273\n",
              "number_of_reviews                    195\n",
              "host_location                        120\n",
              "cleaning_fee                         118\n",
              "host_verifications                   116\n",
              "host_neighbourhood                   102\n",
              "availability_90                       91\n",
              "neighbourhood_cleansed                87\n",
              "neighbourhood                         81\n",
              "maximum_nights                        68\n",
              "availability_60                       61\n",
              "square_feet                           47\n",
              "security_deposit                      46\n",
              "extra_people                          45\n",
              "host_response_rate                    45\n",
              "review_scores_rating                  42\n",
              "calendar_updated                      34\n",
              "availability_30                       31\n",
              "zipcode                               28\n",
              "host_listings_count                   27\n",
              "host_total_listings_count             27\n",
              "minimum_nights                        22\n",
              "calculated_host_listings_count        18\n",
              "neighbourhood_group_cleansed          17\n",
              "property_type                         16\n",
              "guests_included                       15\n",
              "accommodates                          15\n",
              "bathrooms                             12\n",
              "beds                                  11\n",
              "bedrooms                               8\n",
              "review_scores_checkin                  8\n",
              "review_scores_communication            8\n",
              "review_scores_cleanliness              8\n",
              "review_scores_value                    8\n",
              "review_scores_accuracy                 7\n",
              "smart_location                         7\n",
              "city                                   7\n",
              "review_scores_location                 6\n",
              "bed_type                               5\n",
              "host_response_time                     4\n",
              "room_type                              3\n",
              "cancellation_policy                    3\n",
              "instant_bookable                       2\n",
              "require_guest_profile_picture          2\n",
              "require_guest_phone_verification       2\n",
              "state                                  2\n",
              "host_acceptance_rate                   2\n",
              "host_is_superhost                      2\n",
              "is_location_exact                      2\n",
              "host_has_profile_pic                   2\n",
              "host_identity_verified                 2\n",
              "calendar_last_scraped                  1\n",
              "has_availability                       1\n",
              "requires_license                       1\n",
              "jurisdiction_names                     1\n",
              "experiences_offered                    1\n",
              "country                                1\n",
              "country_code                           1\n",
              "market                                 1\n",
              "last_scraped                           1\n",
              "scrape_id                              1\n",
              "license                                0\n",
              "dtype: int64"
            ]
          },
          "metadata": {}
        }
      ]
    },
    {
      "cell_type": "markdown",
      "source": "### Question 1: What are the most common amenities that are available in Seattle Airbnb dataset?",
      "metadata": {}
    },
    {
      "cell_type": "code",
      "source": "# Show the amenities available list\namenities_available = []\n\nfor i in range(len(define_outcome)):\n    amenities_available.append(df_lis['amenities'][i])\n\namenities_available = list((s.strip('\\'\\{\\}') for s in amenities_available))\nstr_amenities_available = \",\".join(amenities_available)\namenities_available = list(set(str_amenities_available.split(\",\")))\n\namenities_missing = []\nfor string in amenities_available:\n    if (string != \"\"):\n        amenities_missing.append(string)\namenities_available = amenities_missing",
      "metadata": {},
      "execution_count": 12,
      "outputs": []
    },
    {
      "cell_type": "code",
      "source": "# Display the number which contains each amenity in the amenities list.\ndef display_number(call, column1, column2, find):\n    '''\n    call - the desired data\n    column1 - label of column that you want to clear\n    column2 - label of column that you want to count\n    find - string list define\n    df_showup - this is the dataframe of each find string list\n    '''\n    df_showup = defaultdict(int)\n    for val in find:\n        for idx in range(call.shape[0]):\n            if val in call[column1][idx]:\n                df_showup[val] += int(call[column2][idx])\n    df_showup = pd.DataFrame(pd.Series(df_showup)).reset_index()\n    df_showup.columns = [column1, column2]\n    df_showup.sort_values('count', ascending=False, inplace=True)\n    return df_showup",
      "metadata": {},
      "execution_count": 17,
      "outputs": []
    },
    {
      "cell_type": "code",
      "source": "# Visualize the chart of top 20 most common amenities\nvis_amenity = define_outcome['amenities'].value_counts().reset_index()\nvis_amenity.rename(columns={'index': 'amenities', 'amenities': 'count'}, inplace=True)\n\ndefine_vis_amenity = display_number(vis_amenity, 'amenities', 'count', amenities_available)\ndefine_vis_amenity.set_index('amenities', inplace=True)\n\n(define_vis_amenity/len(define_outcome))[:20].plot(kind='bar', legend=None);\nplt.xticks(rotation = -90);\nplt.title('Visualize the chart of top 20 most common amenities');\nplt.ylabel('Amenity propotion')\nplt.figure(figsize = [10, 8])\nplt.show()",
      "metadata": {},
      "execution_count": 27,
      "outputs": [
        {
          "output_type": "display_data",
          "data": {
            "image/png": "[encoded data removed]",
            "text/plain": [
              "<matplotlib.figure.Figure at 0x7f3778421e48>"
            ]
          },
          "metadata": {
            "needs_background": "light"
          }
        },
        {
          "output_type": "display_data",
          "data": {
            "text/plain": [
              "<matplotlib.figure.Figure at 0x7f3778421e80>"
            ]
          },
          "metadata": {}
        }
      ]
    },
    {
      "cell_type": "markdown",
      "source": "### Observe:\n- Internet has the highest propotion\n- Elevator in Buiding has the lowest propotion",
      "metadata": {}
    },
    {
      "cell_type": "markdown",
      "source": "### Question 2: I would like to know about some features which have property_type amenities columns",
      "metadata": {}
    },
    {
      "cell_type": "code",
      "source": "# Use the availability_30 column to find the missing value\ndefine_outcome['availability_30'].isnull().sum()",
      "metadata": {},
      "execution_count": 33,
      "outputs": [
        {
          "execution_count": 33,
          "output_type": "execute_result",
          "data": {
            "text/plain": [
              "0"
            ]
          },
          "metadata": {}
        }
      ]
    },
    {
      "cell_type": "code",
      "source": "# Define new column by using the column above (availability_30)\ndefine_outcome['reserve_propotion'] = 1 - (define_outcome['availability_30']/30)",
      "metadata": {},
      "execution_count": 36,
      "outputs": []
    },
    {
      "cell_type": "code",
      "source": "define_outcome['reserve_propotion'].head()",
      "metadata": {},
      "execution_count": 37,
      "outputs": [
        {
          "execution_count": 37,
          "output_type": "execute_result",
          "data": {
            "text/plain": [
              "0    0.533333\n",
              "1    0.566667\n",
              "2    0.966667\n",
              "3    1.000000\n",
              "4    0.000000\n",
              "Name: reserve_propotion, dtype: float64"
            ]
          },
          "metadata": {}
        }
      ]
    },
    {
      "cell_type": "code",
      "source": "# Investige the room type to see if it attract the customer\ndefine_outcome['room_type'].isnull().sum()",
      "metadata": {},
      "execution_count": 38,
      "outputs": [
        {
          "execution_count": 38,
          "output_type": "execute_result",
          "data": {
            "text/plain": [
              "0"
            ]
          },
          "metadata": {}
        }
      ]
    },
    {
      "cell_type": "code",
      "source": "# Display the unique value of room type column\ndefine_outcome['room_type'].value_counts().sort_values(ascending=False)",
      "metadata": {},
      "execution_count": 39,
      "outputs": [
        {
          "execution_count": 39,
          "output_type": "execute_result",
          "data": {
            "text/plain": [
              "Entire home/apt    2541\n",
              "Private room       1160\n",
              "Shared room         117\n",
              "Name: room_type, dtype: int64"
            ]
          },
          "metadata": {}
        }
      ]
    },
    {
      "cell_type": "code",
      "source": "# Display the reserve propotion information\ndefine_outcome.groupby(['room_type'])['reserve_propotion'].mean().sort_values(ascending=False)",
      "metadata": {},
      "execution_count": 40,
      "outputs": [
        {
          "execution_count": 40,
          "output_type": "execute_result",
          "data": {
            "text/plain": [
              "room_type\n",
              "Entire home/apt    0.483353\n",
              "Private room       0.362759\n",
              "Shared room        0.279202\n",
              "Name: reserve_propotion, dtype: float64"
            ]
          },
          "metadata": {}
        }
      ]
    },
    {
      "cell_type": "code",
      "source": "# Visualize the chart of reserve room for next 30 days\n(define_outcome.groupby(['room_type'])['reserve_propotion'].mean().sort_values(ascending=False)).plot(kind='bar', legend=None)\nplt.xticks(rotation = -90);\nplt.ylabel('reserve propotion')\nplt.title('Visualize the chart of reserve room for next 30 days');\nplt.figure(figsize = [10, 8])\nplt.show()",
      "metadata": {},
      "execution_count": 45,
      "outputs": [
        {
          "output_type": "display_data",
          "data": {
            "image/png": "[encoded data removed]",
            "text/plain": [
              "<matplotlib.figure.Figure at 0x7f377813fba8>"
            ]
          },
          "metadata": {
            "needs_background": "light"
          }
        },
        {
          "output_type": "display_data",
          "data": {
            "text/plain": [
              "<matplotlib.figure.Figure at 0x7f3778492080>"
            ]
          },
          "metadata": {}
        }
      ]
    },
    {
      "cell_type": "markdown",
      "source": "### Observe:\n- Entire home/apt has the highest reserve propotion\n- While shared room has the lowest reverve propotion",
      "metadata": {}
    },
    {
      "cell_type": "markdown",
      "source": "### Question 3: My last question is: I would like to know how about the amenities and propotion of thems",
      "metadata": {}
    },
    {
      "cell_type": "code",
      "source": "# Find out the missing value of amenity\ndefine_outcome['amenities'].isnull().sum()",
      "metadata": {},
      "execution_count": 46,
      "outputs": [
        {
          "execution_count": 46,
          "output_type": "execute_result",
          "data": {
            "text/plain": [
              "0"
            ]
          },
          "metadata": {}
        }
      ]
    },
    {
      "cell_type": "code",
      "source": "# Define new column\nfor i in range(len(amenities_available)):\n    define_outcome[amenities_available[i]] = 0",
      "metadata": {},
      "execution_count": 47,
      "outputs": []
    },
    {
      "cell_type": "code",
      "source": "# Input value in new amenity column\nfor i in range(len(amenities_available)):\n    for t in range(len(define_outcome)):\n        if amenities_available[i] in define_outcome['amenities'][t]:\n            define_outcome.loc[t , amenities_available[i]] = 1\n        else:\n            define_outcome.loc[t , amenities_available[i]] = 0",
      "metadata": {},
      "execution_count": 55,
      "outputs": []
    },
    {
      "cell_type": "code",
      "source": "# Visualize the chart of amenity type and the reserve propotion of thems\ntype_of_amenity = pd.DataFrame(index=range(0,len(amenities_available)), \n                columns = [\"Label of Amenity\", \"Reserve propotion with amenity\",\n                                  \"Reserve propotion without amenity\", \"Reserve deviant\"])\n                               \nfor i in range(len(amenities_available)):\n    type_of_amenity['Label of Amenity'][i] = amenities_available[i]\n    type_of_amenity['Reserve propotion with amenity'][i] = define_outcome.groupby([amenities_available[i]])['reserve_propotion'].mean()[1]\n    type_of_amenity['Reserve propotion without amenity'][i] = define_outcome.groupby([amenities_available[i]])['reserve_propotion'].mean()[0]\n    type_of_amenity['Reserve deviant'][i] = type_of_amenity['Reserve propotion with amenity'][i] - type_of_amenity['Reserve propotion without amenity'][i]\n\ntype_of_amenity.set_index('Label of Amenity', inplace=True)",
      "metadata": {},
      "execution_count": 56,
      "outputs": []
    },
    {
      "cell_type": "code",
      "source": "type_of_amenity.sort_values(by='Reserve deviant', ascending = False)[:8]",
      "metadata": {},
      "execution_count": 57,
      "outputs": [
        {
          "execution_count": 57,
          "output_type": "execute_result",
          "data": {
            "text/html": [
              "<div>\n",
              "<style scoped>\n",
              "    .dataframe tbody tr th:only-of-type {\n",
              "        vertical-align: middle;\n",
              "    }\n",
              "\n",
              "    .dataframe tbody tr th {\n",
              "        vertical-align: top;\n",
              "    }\n",
              "\n",
              "    .dataframe thead th {\n",
              "        text-align: right;\n",
              "    }\n",
              "</style>\n",
              "<table border=\"1\" class=\"dataframe\">\n",
              "  <thead>\n",
              "    <tr style=\"text-align: right;\">\n",
              "      <th></th>\n",
              "      <th>Reserve propotion with amenity</th>\n",
              "      <th>Reserve propotion without amenity</th>\n",
              "      <th>Reserve deviant</th>\n",
              "    </tr>\n",
              "    <tr>\n",
              "      <th>Label of Amenity</th>\n",
              "      <th></th>\n",
              "      <th></th>\n",
              "      <th></th>\n",
              "    </tr>\n",
              "  </thead>\n",
              "  <tbody>\n",
              "    <tr>\n",
              "      <th>\"Washer / Dryer\"</th>\n",
              "      <td>0.616667</td>\n",
              "      <td>0.440365</td>\n",
              "      <td>0.176302</td>\n",
              "    </tr>\n",
              "    <tr>\n",
              "      <th>Kitchen</th>\n",
              "      <td>0.451154</td>\n",
              "      <td>0.347764</td>\n",
              "      <td>0.10339</td>\n",
              "    </tr>\n",
              "    <tr>\n",
              "      <th>Cat(s)</th>\n",
              "      <td>0.486649</td>\n",
              "      <td>0.435322</td>\n",
              "      <td>0.0513271</td>\n",
              "    </tr>\n",
              "    <tr>\n",
              "      <th>\"Pets Allowed\"</th>\n",
              "      <td>0.47959</td>\n",
              "      <td>0.434937</td>\n",
              "      <td>0.0446532</td>\n",
              "    </tr>\n",
              "    <tr>\n",
              "      <th>\"Other pet(s)\"</th>\n",
              "      <td>0.48366</td>\n",
              "      <td>0.439873</td>\n",
              "      <td>0.0437876</td>\n",
              "    </tr>\n",
              "    <tr>\n",
              "      <th>Dryer</th>\n",
              "      <td>0.448523</td>\n",
              "      <td>0.404782</td>\n",
              "      <td>0.0437406</td>\n",
              "    </tr>\n",
              "    <tr>\n",
              "      <th>Washer</th>\n",
              "      <td>0.449543</td>\n",
              "      <td>0.407546</td>\n",
              "      <td>0.0419968</td>\n",
              "    </tr>\n",
              "    <tr>\n",
              "      <th>\"Smoke Detector\"</th>\n",
              "      <td>0.445992</td>\n",
              "      <td>0.406642</td>\n",
              "      <td>0.0393502</td>\n",
              "    </tr>\n",
              "  </tbody>\n",
              "</table>\n",
              "</div>"
            ],
            "text/plain": [
              "                 Reserve propotion with amenity  \\\n",
              "Label of Amenity                                  \n",
              "\"Washer / Dryer\"                       0.616667   \n",
              "Kitchen                                0.451154   \n",
              "Cat(s)                                 0.486649   \n",
              "\"Pets Allowed\"                          0.47959   \n",
              "\"Other pet(s)\"                          0.48366   \n",
              "Dryer                                  0.448523   \n",
              "Washer                                 0.449543   \n",
              "\"Smoke Detector\"                       0.445992   \n",
              "\n",
              "                 Reserve propotion without amenity Reserve deviant  \n",
              "Label of Amenity                                                    \n",
              "\"Washer / Dryer\"                          0.440365        0.176302  \n",
              "Kitchen                                   0.347764         0.10339  \n",
              "Cat(s)                                    0.435322       0.0513271  \n",
              "\"Pets Allowed\"                            0.434937       0.0446532  \n",
              "\"Other pet(s)\"                            0.439873       0.0437876  \n",
              "Dryer                                     0.404782       0.0437406  \n",
              "Washer                                    0.407546       0.0419968  \n",
              "\"Smoke Detector\"                          0.406642       0.0393502  "
            ]
          },
          "metadata": {}
        }
      ]
    },
    {
      "cell_type": "markdown",
      "source": "### Observe\n- Washer/ Dryer has the highest reserve propotion with amenity, without amenity and reserve deviant also\n- Smoke Detector has the lowest reserve propotion in all 3 types.",
      "metadata": {}
    },
    {
      "cell_type": "code",
      "source": "",
      "metadata": {},
      "execution_count": null,
      "outputs": []
    },
    {
      "cell_type": "code",
      "source": "",
      "metadata": {},
      "execution_count": null,
      "outputs": []
    }
  ]
}